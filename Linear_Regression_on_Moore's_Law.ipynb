{
  "nbformat": 4,
  "nbformat_minor": 0,
  "metadata": {
    "colab": {
      "name": "Linear Regression on Moore's Law.ipynb",
      "provenance": [],
      "collapsed_sections": [],
      "authorship_tag": "ABX9TyMC7KxP8iC7Ix7imFw9Rhpe",
      "include_colab_link": true
    },
    "kernelspec": {
      "name": "python3",
      "display_name": "Python 3"
    },
    "language_info": {
      "name": "python"
    }
  },
  "cells": [
    {
      "cell_type": "markdown",
      "metadata": {
        "id": "view-in-github",
        "colab_type": "text"
      },
      "source": [
        "<a href=\"https://colab.research.google.com/github/aishwaryaprabhat/Deep-Learning-with-TF-2.0/blob/main/Linear_Regression_on_Moore's_Law.ipynb\" target=\"_parent\"><img src=\"https://colab.research.google.com/assets/colab-badge.svg\" alt=\"Open In Colab\"/></a>"
      ]
    },
    {
      "cell_type": "markdown",
      "metadata": {
        "id": "eRMBCQ76-9yA"
      },
      "source": [
        "## Getting the data"
      ]
    },
    {
      "cell_type": "code",
      "metadata": {
        "colab": {
          "base_uri": "https://localhost:8080/"
        },
        "id": "7KCaPbdG_pJU",
        "outputId": "7eaa6c38-a853-41c6-cf74-cf41f3d63df7"
      },
      "source": [
        "!wget https://raw.githubusercontent.com/lazyprogrammer/machine_learning_examples/master/tf2.0/moore.csv"
      ],
      "execution_count": 1,
      "outputs": [
        {
          "output_type": "stream",
          "text": [
            "--2021-03-24 02:14:01--  https://raw.githubusercontent.com/lazyprogrammer/machine_learning_examples/master/tf2.0/moore.csv\n",
            "Resolving raw.githubusercontent.com (raw.githubusercontent.com)... 185.199.111.133, 185.199.110.133, 185.199.109.133, ...\n",
            "Connecting to raw.githubusercontent.com (raw.githubusercontent.com)|185.199.111.133|:443... connected.\n",
            "HTTP request sent, awaiting response... 200 OK\n",
            "Length: 2302 (2.2K) [text/plain]\n",
            "Saving to: ‘moore.csv’\n",
            "\n",
            "moore.csv           100%[===================>]   2.25K  --.-KB/s    in 0s      \n",
            "\n",
            "2021-03-24 02:14:01 (47.7 MB/s) - ‘moore.csv’ saved [2302/2302]\n",
            "\n"
          ],
          "name": "stdout"
        }
      ]
    },
    {
      "cell_type": "code",
      "metadata": {
        "colab": {
          "base_uri": "https://localhost:8080/"
        },
        "id": "9-3jek7SAoA9",
        "outputId": "b5a9615d-df6e-4223-e6d9-18a78d26573c"
      },
      "source": [
        "!ls"
      ],
      "execution_count": 2,
      "outputs": [
        {
          "output_type": "stream",
          "text": [
            "moore.csv  sample_data\n"
          ],
          "name": "stdout"
        }
      ]
    },
    {
      "cell_type": "code",
      "metadata": {
        "id": "5WTZBW8JAqXU"
      },
      "source": [
        "!mv moore.csv sample_data/"
      ],
      "execution_count": 3,
      "outputs": []
    },
    {
      "cell_type": "code",
      "metadata": {
        "colab": {
          "base_uri": "https://localhost:8080/"
        },
        "id": "tAK6qpzwAtdJ",
        "outputId": "88887ade-796b-4b59-dd86-5da1832722ac"
      },
      "source": [
        "!ls sample_data"
      ],
      "execution_count": 4,
      "outputs": [
        {
          "output_type": "stream",
          "text": [
            "anscombe.json\t\t      mnist_test.csv\t     README.md\n",
            "california_housing_test.csv   mnist_train_small.csv\n",
            "california_housing_train.csv  moore.csv\n"
          ],
          "name": "stdout"
        }
      ]
    },
    {
      "cell_type": "markdown",
      "metadata": {
        "id": "E8HbOnPKAviu"
      },
      "source": [
        "## Preprocessing and EDA"
      ]
    },
    {
      "cell_type": "code",
      "metadata": {
        "colab": {
          "base_uri": "https://localhost:8080/",
          "height": 204
        },
        "id": "M6cTfy8XA09j",
        "outputId": "bf4d271b-7cef-4c3c-b2a6-0918da0eb7e0"
      },
      "source": [
        "import pandas as pd \n",
        "\n",
        "df = pd.read_csv('sample_data/moore.csv', header=None)\n",
        "df.head()"
      ],
      "execution_count": 5,
      "outputs": [
        {
          "output_type": "execute_result",
          "data": {
            "text/html": [
              "<div>\n",
              "<style scoped>\n",
              "    .dataframe tbody tr th:only-of-type {\n",
              "        vertical-align: middle;\n",
              "    }\n",
              "\n",
              "    .dataframe tbody tr th {\n",
              "        vertical-align: top;\n",
              "    }\n",
              "\n",
              "    .dataframe thead th {\n",
              "        text-align: right;\n",
              "    }\n",
              "</style>\n",
              "<table border=\"1\" class=\"dataframe\">\n",
              "  <thead>\n",
              "    <tr style=\"text-align: right;\">\n",
              "      <th></th>\n",
              "      <th>0</th>\n",
              "      <th>1</th>\n",
              "    </tr>\n",
              "  </thead>\n",
              "  <tbody>\n",
              "    <tr>\n",
              "      <th>0</th>\n",
              "      <td>1971</td>\n",
              "      <td>2300</td>\n",
              "    </tr>\n",
              "    <tr>\n",
              "      <th>1</th>\n",
              "      <td>1972</td>\n",
              "      <td>3500</td>\n",
              "    </tr>\n",
              "    <tr>\n",
              "      <th>2</th>\n",
              "      <td>1973</td>\n",
              "      <td>2500</td>\n",
              "    </tr>\n",
              "    <tr>\n",
              "      <th>3</th>\n",
              "      <td>1973</td>\n",
              "      <td>2500</td>\n",
              "    </tr>\n",
              "    <tr>\n",
              "      <th>4</th>\n",
              "      <td>1974</td>\n",
              "      <td>4100</td>\n",
              "    </tr>\n",
              "  </tbody>\n",
              "</table>\n",
              "</div>"
            ],
            "text/plain": [
              "      0     1\n",
              "0  1971  2300\n",
              "1  1972  3500\n",
              "2  1973  2500\n",
              "3  1973  2500\n",
              "4  1974  4100"
            ]
          },
          "metadata": {
            "tags": []
          },
          "execution_count": 5
        }
      ]
    },
    {
      "cell_type": "code",
      "metadata": {
        "id": "43B3XA6PA_Hc"
      },
      "source": [
        "X = df.values[:,0].reshape(-1,1) #this is just to follow TF convention of having an NxD array, in this case our D=1\n",
        "Y = df.values[:,1]"
      ],
      "execution_count": 11,
      "outputs": []
    },
    {
      "cell_type": "code",
      "metadata": {
        "colab": {
          "base_uri": "https://localhost:8080/"
        },
        "id": "Fc0QDSNkBJBx",
        "outputId": "e7f351f3-9347-4cb1-c5c1-75f609cb9f06"
      },
      "source": [
        "print(X.shape)\n",
        "print(Y.shape)"
      ],
      "execution_count": 12,
      "outputs": [
        {
          "output_type": "stream",
          "text": [
            "(162, 1)\n",
            "(162,)\n"
          ],
          "name": "stdout"
        }
      ]
    },
    {
      "cell_type": "code",
      "metadata": {
        "colab": {
          "base_uri": "https://localhost:8080/",
          "height": 293
        },
        "id": "Zmdt3MOXBMNY",
        "outputId": "742eebb0-c228-4e77-aaf9-45d4268c8d0a"
      },
      "source": [
        "from matplotlib import pyplot as plt\n",
        "\n",
        "plt.scatter(X,Y)"
      ],
      "execution_count": 13,
      "outputs": [
        {
          "output_type": "execute_result",
          "data": {
            "text/plain": [
              "<matplotlib.collections.PathCollection at 0x7f0ef4f49810>"
            ]
          },
          "metadata": {
            "tags": []
          },
          "execution_count": 13
        },
        {
          "output_type": "display_data",
          "data": {
            "image/png": "[encoded data removed]",
            "text/plain": [
              "<Figure size 432x288 with 1 Axes>"
            ]
          },
          "metadata": {
            "tags": [],
            "needs_background": "light"
          }
        }
      ]
    },
    {
      "cell_type": "markdown",
      "metadata": {
        "id": "NkvZze1_BR2H"
      },
      "source": [
        "### Data Preprocessing (Transformations)"
      ]
    },
    {
      "cell_type": "code",
      "metadata": {
        "id": "Je-SFWbXBZpb"
      },
      "source": [
        "import numpy as np\n",
        "\n",
        "Y = np.log(Y)"
      ],
      "execution_count": 14,
      "outputs": []
    },
    {
      "cell_type": "code",
      "metadata": {
        "colab": {
          "base_uri": "https://localhost:8080/",
          "height": 282
        },
        "id": "GlE8wQvbBnIa",
        "outputId": "9ac85d83-ba28-43a3-86a8-224b82b0f5ae"
      },
      "source": [
        "plt.scatter(X,Y)"
      ],
      "execution_count": 15,
      "outputs": [
        {
          "output_type": "execute_result",
          "data": {
            "text/plain": [
              "<matplotlib.collections.PathCollection at 0x7f0ef4cce610>"
            ]
          },
          "metadata": {
            "tags": []
          },
          "execution_count": 15
        },
        {
          "output_type": "display_data",
          "data": {
            "image/png": "[encoded data removed]",
            "text/plain": [
              "<Figure size 432x288 with 1 Axes>"
            ]
          },
          "metadata": {
            "tags": [],
            "needs_background": "light"
          }
        }
      ]
    },
    {
      "cell_type": "code",
      "metadata": {
        "id": "5AuKEKlMBqCu"
      },
      "source": [
        "X = X-np.mean(X) #just to center it around 0"
      ],
      "execution_count": 16,
      "outputs": []
    },
    {
      "cell_type": "code",
      "metadata": {
        "colab": {
          "base_uri": "https://localhost:8080/",
          "height": 282
        },
        "id": "FZ6KPflgCNsA",
        "outputId": "afeab3e6-4e01-4b7d-db9b-48f95958731f"
      },
      "source": [
        "plt.scatter(X,Y)"
      ],
      "execution_count": 17,
      "outputs": [
        {
          "output_type": "execute_result",
          "data": {
            "text/plain": [
              "<matplotlib.collections.PathCollection at 0x7f0ef4c64f90>"
            ]
          },
          "metadata": {
            "tags": []
          },
          "execution_count": 17
        },
        {
          "output_type": "display_data",
          "data": {
            "image/png": "[encoded data removed]",
            "text/plain": [
              "<Figure size 432x288 with 1 Axes>"
            ]
          },
          "metadata": {
            "tags": [],
            "needs_background": "light"
          }
        }
      ]
    },
    {
      "cell_type": "markdown",
      "metadata": {
        "id": "mdTe7TuxCPGR"
      },
      "source": [
        "## Architecting and Compiling the Model"
      ]
    },
    {
      "cell_type": "code",
      "metadata": {
        "id": "IbroR9wiCidw"
      },
      "source": [
        "import tensorflow as tf\n",
        "\n",
        "model = tf.keras.models.Sequential(\n",
        "    [\n",
        "     tf.keras.layers.Input(shape=(1,)),\n",
        "     tf.keras.layers.Dense(1)\n",
        "    ]\n",
        ")\n",
        "\n",
        "\n",
        "model.compile(optimizer=tf.keras.optimizers.SGD(0.001, 0.9), loss='mse')"
      ],
      "execution_count": 30,
      "outputs": []
    },
    {
      "cell_type": "code",
      "metadata": {
        "colab": {
          "base_uri": "https://localhost:8080/"
        },
        "id": "BcR3sFTbDTnY",
        "outputId": "732a4bac-8e6f-4330-bdb4-e811e7a087e4"
      },
      "source": [
        "model.summary()"
      ],
      "execution_count": 31,
      "outputs": [
        {
          "output_type": "stream",
          "text": [
            "Model: \"sequential_2\"\n",
            "_________________________________________________________________\n",
            "Layer (type)                 Output Shape              Param #   \n",
            "=================================================================\n",
            "dense_2 (Dense)              (None, 1)                 2         \n",
            "=================================================================\n",
            "Total params: 2\n",
            "Trainable params: 2\n",
            "Non-trainable params: 0\n",
            "_________________________________________________________________\n"
          ],
          "name": "stdout"
        }
      ]
    },
    {
      "cell_type": "markdown",
      "metadata": {
        "id": "ugmjU2hlDnZi"
      },
      "source": [
        "## Fit model on data"
      ]
    },
    {
      "cell_type": "code",
      "metadata": {
        "colab": {
          "base_uri": "https://localhost:8080/"
        },
        "id": "fuhyZxbMDxM8",
        "outputId": "387a6e7e-410e-447a-aeae-3af69ff9bc9a"
      },
      "source": [
        "trained_model = model.fit(X, Y, epochs=200)"
      ],
      "execution_count": 28,
      "outputs": [
        {
          "output_type": "stream",
          "text": [
            "Epoch 1/200\n",
            "6/6 [==============================] - 0s 2ms/step - loss: 0.9694\n",
            "Epoch 2/200\n",
            "6/6 [==============================] - 0s 2ms/step - loss: 0.9219\n",
            "Epoch 3/200\n",
            "6/6 [==============================] - 0s 1ms/step - loss: 0.8804\n",
            "Epoch 4/200\n",
            "6/6 [==============================] - 0s 2ms/step - loss: 0.8742\n",
            "Epoch 5/200\n",
            "6/6 [==============================] - 0s 2ms/step - loss: 0.8750\n",
            "Epoch 6/200\n",
            "6/6 [==============================] - 0s 2ms/step - loss: 0.8872\n",
            "Epoch 7/200\n",
            "6/6 [==============================] - 0s 2ms/step - loss: 0.8757\n",
            "Epoch 8/200\n",
            "6/6 [==============================] - 0s 1ms/step - loss: 0.8923\n",
            "Epoch 9/200\n",
            "6/6 [==============================] - 0s 1ms/step - loss: 0.8757\n",
            "Epoch 10/200\n",
            "6/6 [==============================] - 0s 2ms/step - loss: 0.8754\n",
            "Epoch 11/200\n",
            "6/6 [==============================] - 0s 2ms/step - loss: 0.8730\n",
            "Epoch 12/200\n",
            "6/6 [==============================] - 0s 2ms/step - loss: 0.8712\n",
            "Epoch 13/200\n",
            "6/6 [==============================] - 0s 2ms/step - loss: 0.8720\n",
            "Epoch 14/200\n",
            "6/6 [==============================] - 0s 2ms/step - loss: 0.8740\n",
            "Epoch 15/200\n",
            "6/6 [==============================] - 0s 2ms/step - loss: 0.8731\n",
            "Epoch 16/200\n",
            "6/6 [==============================] - 0s 2ms/step - loss: 0.8727\n",
            "Epoch 17/200\n",
            "6/6 [==============================] - 0s 2ms/step - loss: 0.8767\n",
            "Epoch 18/200\n",
            "6/6 [==============================] - 0s 2ms/step - loss: 0.8729\n",
            "Epoch 19/200\n",
            "6/6 [==============================] - 0s 1ms/step - loss: 0.9041\n",
            "Epoch 20/200\n",
            "6/6 [==============================] - 0s 2ms/step - loss: 0.8941\n",
            "Epoch 21/200\n",
            "6/6 [==============================] - 0s 2ms/step - loss: 0.8778\n",
            "Epoch 22/200\n",
            "6/6 [==============================] - 0s 2ms/step - loss: 0.8718\n",
            "Epoch 23/200\n",
            "6/6 [==============================] - 0s 2ms/step - loss: 0.8691\n",
            "Epoch 24/200\n",
            "6/6 [==============================] - 0s 2ms/step - loss: 0.8739\n",
            "Epoch 25/200\n",
            "6/6 [==============================] - 0s 2ms/step - loss: 0.8738\n",
            "Epoch 26/200\n",
            "6/6 [==============================] - 0s 3ms/step - loss: 0.8865\n",
            "Epoch 27/200\n",
            "6/6 [==============================] - 0s 3ms/step - loss: 0.9544\n",
            "Epoch 28/200\n",
            "6/6 [==============================] - 0s 2ms/step - loss: 0.9357\n",
            "Epoch 29/200\n",
            "6/6 [==============================] - 0s 4ms/step - loss: 0.8696\n",
            "Epoch 30/200\n",
            "6/6 [==============================] - 0s 2ms/step - loss: 0.9773\n",
            "Epoch 31/200\n",
            "6/6 [==============================] - 0s 2ms/step - loss: 0.9790\n",
            "Epoch 32/200\n",
            "6/6 [==============================] - 0s 2ms/step - loss: 0.8880\n",
            "Epoch 33/200\n",
            "6/6 [==============================] - 0s 2ms/step - loss: 0.8833\n",
            "Epoch 34/200\n",
            "6/6 [==============================] - 0s 2ms/step - loss: 0.8797\n",
            "Epoch 35/200\n",
            "6/6 [==============================] - 0s 2ms/step - loss: 0.8739\n",
            "Epoch 36/200\n",
            "6/6 [==============================] - 0s 2ms/step - loss: 0.8709\n",
            "Epoch 37/200\n",
            "6/6 [==============================] - 0s 2ms/step - loss: 0.8704\n",
            "Epoch 38/200\n",
            "6/6 [==============================] - 0s 3ms/step - loss: 0.8780\n",
            "Epoch 39/200\n",
            "6/6 [==============================] - 0s 2ms/step - loss: 0.8675\n",
            "Epoch 40/200\n",
            "6/6 [==============================] - 0s 3ms/step - loss: 0.8818\n",
            "Epoch 41/200\n",
            "6/6 [==============================] - 0s 2ms/step - loss: 0.8766\n",
            "Epoch 42/200\n",
            "6/6 [==============================] - 0s 2ms/step - loss: 0.8727\n",
            "Epoch 43/200\n",
            "6/6 [==============================] - 0s 3ms/step - loss: 0.8796\n",
            "Epoch 44/200\n",
            "6/6 [==============================] - 0s 2ms/step - loss: 0.8787\n",
            "Epoch 45/200\n",
            "6/6 [==============================] - 0s 3ms/step - loss: 0.8722\n",
            "Epoch 46/200\n",
            "6/6 [==============================] - 0s 2ms/step - loss: 0.8792\n",
            "Epoch 47/200\n",
            "6/6 [==============================] - 0s 2ms/step - loss: 0.8818\n",
            "Epoch 48/200\n",
            "6/6 [==============================] - 0s 2ms/step - loss: 0.9296\n",
            "Epoch 49/200\n",
            "6/6 [==============================] - 0s 2ms/step - loss: 0.9408\n",
            "Epoch 50/200\n",
            "6/6 [==============================] - 0s 3ms/step - loss: 0.8677\n",
            "Epoch 51/200\n",
            "6/6 [==============================] - 0s 3ms/step - loss: 0.9190\n",
            "Epoch 52/200\n",
            "6/6 [==============================] - 0s 2ms/step - loss: 0.8734\n",
            "Epoch 53/200\n",
            "6/6 [==============================] - 0s 2ms/step - loss: 0.9587\n",
            "Epoch 54/200\n",
            "6/6 [==============================] - 0s 2ms/step - loss: 0.9376\n",
            "Epoch 55/200\n",
            "6/6 [==============================] - 0s 2ms/step - loss: 0.8807\n",
            "Epoch 56/200\n",
            "6/6 [==============================] - 0s 2ms/step - loss: 0.8768\n",
            "Epoch 57/200\n",
            "6/6 [==============================] - 0s 2ms/step - loss: 0.8792\n",
            "Epoch 58/200\n",
            "6/6 [==============================] - 0s 2ms/step - loss: 0.8736\n",
            "Epoch 59/200\n",
            "6/6 [==============================] - 0s 1ms/step - loss: 0.8776\n",
            "Epoch 60/200\n",
            "6/6 [==============================] - 0s 2ms/step - loss: 0.8713\n",
            "Epoch 61/200\n",
            "6/6 [==============================] - 0s 2ms/step - loss: 0.8763\n",
            "Epoch 62/200\n",
            "6/6 [==============================] - 0s 3ms/step - loss: 0.8736\n",
            "Epoch 63/200\n",
            "6/6 [==============================] - 0s 2ms/step - loss: 0.8779\n",
            "Epoch 64/200\n",
            "6/6 [==============================] - 0s 2ms/step - loss: 0.8719\n",
            "Epoch 65/200\n",
            "6/6 [==============================] - 0s 2ms/step - loss: 0.8706\n",
            "Epoch 66/200\n",
            "6/6 [==============================] - 0s 2ms/step - loss: 0.8701\n",
            "Epoch 67/200\n",
            "6/6 [==============================] - 0s 3ms/step - loss: 0.8710\n",
            "Epoch 68/200\n",
            "6/6 [==============================] - 0s 2ms/step - loss: 0.8907\n",
            "Epoch 69/200\n",
            "6/6 [==============================] - 0s 2ms/step - loss: 0.8925\n",
            "Epoch 70/200\n",
            "6/6 [==============================] - 0s 2ms/step - loss: 0.8829\n",
            "Epoch 71/200\n",
            "6/6 [==============================] - 0s 3ms/step - loss: 0.8803\n",
            "Epoch 72/200\n",
            "6/6 [==============================] - 0s 3ms/step - loss: 0.8783\n",
            "Epoch 73/200\n",
            "6/6 [==============================] - 0s 2ms/step - loss: 0.8751\n",
            "Epoch 74/200\n",
            "6/6 [==============================] - 0s 4ms/step - loss: 0.8985\n",
            "Epoch 75/200\n",
            "6/6 [==============================] - 0s 3ms/step - loss: 0.8758\n",
            "Epoch 76/200\n",
            "6/6 [==============================] - 0s 2ms/step - loss: 0.9112\n",
            "Epoch 77/200\n",
            "6/6 [==============================] - 0s 2ms/step - loss: 0.8830\n",
            "Epoch 78/200\n",
            "6/6 [==============================] - 0s 2ms/step - loss: 0.8726\n",
            "Epoch 79/200\n",
            "6/6 [==============================] - 0s 2ms/step - loss: 0.8739\n",
            "Epoch 80/200\n",
            "6/6 [==============================] - 0s 2ms/step - loss: 0.8734\n",
            "Epoch 81/200\n",
            "6/6 [==============================] - 0s 2ms/step - loss: 0.8745\n",
            "Epoch 82/200\n",
            "6/6 [==============================] - 0s 3ms/step - loss: 0.8938\n",
            "Epoch 83/200\n",
            "6/6 [==============================] - 0s 3ms/step - loss: 0.8687\n",
            "Epoch 84/200\n",
            "6/6 [==============================] - 0s 2ms/step - loss: 0.8737\n",
            "Epoch 85/200\n",
            "6/6 [==============================] - 0s 2ms/step - loss: 0.8723\n",
            "Epoch 86/200\n",
            "6/6 [==============================] - 0s 3ms/step - loss: 0.8727\n",
            "Epoch 87/200\n",
            "6/6 [==============================] - 0s 2ms/step - loss: 0.8771\n",
            "Epoch 88/200\n",
            "6/6 [==============================] - 0s 2ms/step - loss: 0.8755\n",
            "Epoch 89/200\n",
            "6/6 [==============================] - 0s 4ms/step - loss: 0.8705\n",
            "Epoch 90/200\n",
            "6/6 [==============================] - 0s 2ms/step - loss: 0.8749\n",
            "Epoch 91/200\n",
            "6/6 [==============================] - 0s 2ms/step - loss: 0.9086\n",
            "Epoch 92/200\n",
            "6/6 [==============================] - 0s 2ms/step - loss: 0.9052\n",
            "Epoch 93/200\n",
            "6/6 [==============================] - 0s 2ms/step - loss: 0.8699\n",
            "Epoch 94/200\n",
            "6/6 [==============================] - 0s 2ms/step - loss: 0.8769\n",
            "Epoch 95/200\n",
            "6/6 [==============================] - 0s 2ms/step - loss: 0.8710\n",
            "Epoch 96/200\n",
            "6/6 [==============================] - 0s 2ms/step - loss: 0.8708\n",
            "Epoch 97/200\n",
            "6/6 [==============================] - 0s 2ms/step - loss: 0.8728\n",
            "Epoch 98/200\n",
            "6/6 [==============================] - 0s 2ms/step - loss: 0.8760\n",
            "Epoch 99/200\n",
            "6/6 [==============================] - 0s 2ms/step - loss: 0.9029\n",
            "Epoch 100/200\n",
            "6/6 [==============================] - 0s 2ms/step - loss: 0.8720\n",
            "Epoch 101/200\n",
            "6/6 [==============================] - 0s 2ms/step - loss: 0.8841\n",
            "Epoch 102/200\n",
            "6/6 [==============================] - 0s 2ms/step - loss: 0.8781\n",
            "Epoch 103/200\n",
            "6/6 [==============================] - 0s 2ms/step - loss: 0.8698\n",
            "Epoch 104/200\n",
            "6/6 [==============================] - 0s 2ms/step - loss: 0.8735\n",
            "Epoch 105/200\n",
            "6/6 [==============================] - 0s 2ms/step - loss: 0.8738\n",
            "Epoch 106/200\n",
            "6/6 [==============================] - 0s 2ms/step - loss: 0.8709\n",
            "Epoch 107/200\n",
            "6/6 [==============================] - 0s 2ms/step - loss: 0.8714\n",
            "Epoch 108/200\n",
            "6/6 [==============================] - 0s 2ms/step - loss: 0.8717\n",
            "Epoch 109/200\n",
            "6/6 [==============================] - 0s 2ms/step - loss: 0.8695\n",
            "Epoch 110/200\n",
            "6/6 [==============================] - 0s 2ms/step - loss: 0.8758\n",
            "Epoch 111/200\n",
            "6/6 [==============================] - 0s 2ms/step - loss: 0.8839\n",
            "Epoch 112/200\n",
            "6/6 [==============================] - 0s 2ms/step - loss: 0.8730\n",
            "Epoch 113/200\n",
            "6/6 [==============================] - 0s 2ms/step - loss: 0.8709\n",
            "Epoch 114/200\n",
            "6/6 [==============================] - 0s 3ms/step - loss: 0.8748\n",
            "Epoch 115/200\n",
            "6/6 [==============================] - 0s 2ms/step - loss: 0.8799\n",
            "Epoch 116/200\n",
            "6/6 [==============================] - 0s 2ms/step - loss: 0.8888\n",
            "Epoch 117/200\n",
            "6/6 [==============================] - 0s 2ms/step - loss: 0.8901\n",
            "Epoch 118/200\n",
            "6/6 [==============================] - 0s 2ms/step - loss: 0.8767\n",
            "Epoch 119/200\n",
            "6/6 [==============================] - 0s 2ms/step - loss: 0.8739\n",
            "Epoch 120/200\n",
            "6/6 [==============================] - 0s 2ms/step - loss: 0.8735\n",
            "Epoch 121/200\n",
            "6/6 [==============================] - 0s 2ms/step - loss: 0.8712\n",
            "Epoch 122/200\n",
            "6/6 [==============================] - 0s 2ms/step - loss: 0.8767\n",
            "Epoch 123/200\n",
            "6/6 [==============================] - 0s 2ms/step - loss: 0.8774\n",
            "Epoch 124/200\n",
            "6/6 [==============================] - 0s 3ms/step - loss: 0.8742\n",
            "Epoch 125/200\n",
            "6/6 [==============================] - 0s 2ms/step - loss: 0.8722\n",
            "Epoch 126/200\n",
            "6/6 [==============================] - 0s 2ms/step - loss: 0.8704\n",
            "Epoch 127/200\n",
            "6/6 [==============================] - 0s 2ms/step - loss: 0.8765\n",
            "Epoch 128/200\n",
            "6/6 [==============================] - 0s 3ms/step - loss: 0.8824\n",
            "Epoch 129/200\n",
            "6/6 [==============================] - 0s 2ms/step - loss: 0.8741\n",
            "Epoch 130/200\n",
            "6/6 [==============================] - 0s 2ms/step - loss: 0.8741\n",
            "Epoch 131/200\n",
            "6/6 [==============================] - 0s 2ms/step - loss: 0.8915\n",
            "Epoch 132/200\n",
            "6/6 [==============================] - 0s 2ms/step - loss: 0.8908\n",
            "Epoch 133/200\n",
            "6/6 [==============================] - 0s 2ms/step - loss: 0.8730\n",
            "Epoch 134/200\n",
            "6/6 [==============================] - 0s 2ms/step - loss: 0.8809\n",
            "Epoch 135/200\n",
            "6/6 [==============================] - 0s 2ms/step - loss: 0.8759\n",
            "Epoch 136/200\n",
            "6/6 [==============================] - 0s 2ms/step - loss: 0.8714\n",
            "Epoch 137/200\n",
            "6/6 [==============================] - 0s 2ms/step - loss: 0.8725\n",
            "Epoch 138/200\n",
            "6/6 [==============================] - 0s 2ms/step - loss: 0.8728\n",
            "Epoch 139/200\n",
            "6/6 [==============================] - 0s 2ms/step - loss: 0.8742\n",
            "Epoch 140/200\n",
            "6/6 [==============================] - 0s 2ms/step - loss: 0.8793\n",
            "Epoch 141/200\n",
            "6/6 [==============================] - 0s 4ms/step - loss: 0.8745\n",
            "Epoch 142/200\n",
            "6/6 [==============================] - 0s 2ms/step - loss: 0.8721\n",
            "Epoch 143/200\n",
            "6/6 [==============================] - 0s 2ms/step - loss: 0.8729\n",
            "Epoch 144/200\n",
            "6/6 [==============================] - 0s 2ms/step - loss: 0.8715\n",
            "Epoch 145/200\n",
            "6/6 [==============================] - 0s 2ms/step - loss: 0.8726\n",
            "Epoch 146/200\n",
            "6/6 [==============================] - 0s 3ms/step - loss: 0.8717\n",
            "Epoch 147/200\n",
            "6/6 [==============================] - 0s 2ms/step - loss: 0.8783\n",
            "Epoch 148/200\n",
            "6/6 [==============================] - 0s 2ms/step - loss: 0.9000\n",
            "Epoch 149/200\n",
            "6/6 [==============================] - 0s 3ms/step - loss: 0.8966\n",
            "Epoch 150/200\n",
            "6/6 [==============================] - 0s 2ms/step - loss: 0.8700\n",
            "Epoch 151/200\n",
            "6/6 [==============================] - 0s 2ms/step - loss: 0.8797\n",
            "Epoch 152/200\n",
            "6/6 [==============================] - 0s 2ms/step - loss: 0.8748\n",
            "Epoch 153/200\n",
            "6/6 [==============================] - 0s 2ms/step - loss: 0.8882\n",
            "Epoch 154/200\n",
            "6/6 [==============================] - 0s 2ms/step - loss: 0.8871\n",
            "Epoch 155/200\n",
            "6/6 [==============================] - 0s 3ms/step - loss: 0.8852\n",
            "Epoch 156/200\n",
            "6/6 [==============================] - 0s 2ms/step - loss: 0.8776\n",
            "Epoch 157/200\n",
            "6/6 [==============================] - 0s 2ms/step - loss: 0.8704\n",
            "Epoch 158/200\n",
            "6/6 [==============================] - 0s 2ms/step - loss: 0.8784\n",
            "Epoch 159/200\n",
            "6/6 [==============================] - 0s 2ms/step - loss: 0.8798\n",
            "Epoch 160/200\n",
            "6/6 [==============================] - 0s 2ms/step - loss: 0.8690\n",
            "Epoch 161/200\n",
            "6/6 [==============================] - 0s 2ms/step - loss: 0.9003\n",
            "Epoch 162/200\n",
            "6/6 [==============================] - 0s 2ms/step - loss: 0.8934\n",
            "Epoch 163/200\n",
            "6/6 [==============================] - 0s 3ms/step - loss: 0.8670\n",
            "Epoch 164/200\n",
            "6/6 [==============================] - 0s 2ms/step - loss: 1.0362\n",
            "Epoch 165/200\n",
            "6/6 [==============================] - 0s 3ms/step - loss: 0.9965\n",
            "Epoch 166/200\n",
            "6/6 [==============================] - 0s 2ms/step - loss: 0.8885\n",
            "Epoch 167/200\n",
            "6/6 [==============================] - 0s 2ms/step - loss: 0.9040\n",
            "Epoch 168/200\n",
            "6/6 [==============================] - 0s 2ms/step - loss: 0.8745\n",
            "Epoch 169/200\n",
            "6/6 [==============================] - 0s 2ms/step - loss: 0.8730\n",
            "Epoch 170/200\n",
            "6/6 [==============================] - 0s 3ms/step - loss: 0.8736\n",
            "Epoch 171/200\n",
            "6/6 [==============================] - 0s 3ms/step - loss: 0.8739\n",
            "Epoch 172/200\n",
            "6/6 [==============================] - 0s 3ms/step - loss: 0.8697\n",
            "Epoch 173/200\n",
            "6/6 [==============================] - 0s 2ms/step - loss: 0.8798\n",
            "Epoch 174/200\n",
            "6/6 [==============================] - 0s 2ms/step - loss: 0.8964\n",
            "Epoch 175/200\n",
            "6/6 [==============================] - 0s 2ms/step - loss: 0.8840\n",
            "Epoch 176/200\n",
            "6/6 [==============================] - 0s 2ms/step - loss: 0.8790\n",
            "Epoch 177/200\n",
            "6/6 [==============================] - 0s 3ms/step - loss: 0.8813\n",
            "Epoch 178/200\n",
            "6/6 [==============================] - 0s 2ms/step - loss: 0.8789\n",
            "Epoch 179/200\n",
            "6/6 [==============================] - 0s 3ms/step - loss: 0.8752\n",
            "Epoch 180/200\n",
            "6/6 [==============================] - 0s 2ms/step - loss: 0.8745\n",
            "Epoch 181/200\n",
            "6/6 [==============================] - 0s 2ms/step - loss: 0.8759\n",
            "Epoch 182/200\n",
            "6/6 [==============================] - 0s 2ms/step - loss: 0.8716\n",
            "Epoch 183/200\n",
            "6/6 [==============================] - 0s 2ms/step - loss: 0.8763\n",
            "Epoch 184/200\n",
            "6/6 [==============================] - 0s 2ms/step - loss: 0.8749\n",
            "Epoch 185/200\n",
            "6/6 [==============================] - 0s 2ms/step - loss: 0.8708\n",
            "Epoch 186/200\n",
            "6/6 [==============================] - 0s 2ms/step - loss: 0.8745\n",
            "Epoch 187/200\n",
            "6/6 [==============================] - 0s 2ms/step - loss: 0.8674\n",
            "Epoch 188/200\n",
            "6/6 [==============================] - 0s 3ms/step - loss: 0.8866\n",
            "Epoch 189/200\n",
            "6/6 [==============================] - 0s 2ms/step - loss: 0.8739\n",
            "Epoch 190/200\n",
            "6/6 [==============================] - 0s 3ms/step - loss: 0.9019\n",
            "Epoch 191/200\n",
            "6/6 [==============================] - 0s 2ms/step - loss: 0.8996\n",
            "Epoch 192/200\n",
            "6/6 [==============================] - 0s 2ms/step - loss: 0.8752\n",
            "Epoch 193/200\n",
            "6/6 [==============================] - 0s 3ms/step - loss: 0.8981\n",
            "Epoch 194/200\n",
            "6/6 [==============================] - 0s 4ms/step - loss: 0.8811\n",
            "Epoch 195/200\n",
            "6/6 [==============================] - 0s 2ms/step - loss: 0.8826\n",
            "Epoch 196/200\n",
            "6/6 [==============================] - 0s 2ms/step - loss: 0.8881\n",
            "Epoch 197/200\n",
            "6/6 [==============================] - 0s 4ms/step - loss: 0.8741\n",
            "Epoch 198/200\n",
            "6/6 [==============================] - 0s 3ms/step - loss: 0.8710\n",
            "Epoch 199/200\n",
            "6/6 [==============================] - 0s 2ms/step - loss: 0.8753\n",
            "Epoch 200/200\n",
            "6/6 [==============================] - 0s 2ms/step - loss: 0.8777\n"
          ],
          "name": "stdout"
        }
      ]
    },
    {
      "cell_type": "code",
      "metadata": {
        "colab": {
          "base_uri": "https://localhost:8080/",
          "height": 282
        },
        "id": "KQbom-OgD3Dd",
        "outputId": "d1caeba0-db75-4bb6-83f5-a0bd378a3918"
      },
      "source": [
        "plt.plot(trained_model.history[\"loss\"], label=\"loss\")"
      ],
      "execution_count": 29,
      "outputs": [
        {
          "output_type": "execute_result",
          "data": {
            "text/plain": [
              "[<matplotlib.lines.Line2D at 0x7f0eb3991450>]"
            ]
          },
          "metadata": {
            "tags": []
          },
          "execution_count": 29
        },
        {
          "output_type": "display_data",
          "data": {
            "image/png": "[encoded data removed]",
            "text/plain": [
              "<Figure size 432x288 with 1 Axes>"
            ]
          },
          "metadata": {
            "tags": [],
            "needs_background": "light"
          }
        }
      ]
    },
    {
      "cell_type": "markdown",
      "metadata": {
        "id": "MytNnM7FD-Nu"
      },
      "source": [
        "### Using a learning rate scheduler"
      ]
    },
    {
      "cell_type": "code",
      "metadata": {
        "colab": {
          "base_uri": "https://localhost:8080/"
        },
        "id": "1Dj3s4y_EMug",
        "outputId": "0a3545ef-690f-401e-d665-e91b1ba45f2c"
      },
      "source": [
        "def schedule(epoch, lr):\n",
        "  if epoch>=50:\n",
        "    return 0.0001\n",
        "  return 0.001\n",
        "\n",
        "scheduler = tf.keras.callbacks.LearningRateScheduler(schedule)\n",
        "trained_model = model.fit(X,Y,epochs=200,callbacks=[scheduler])"
      ],
      "execution_count": 32,
      "outputs": [
        {
          "output_type": "stream",
          "text": [
            "Epoch 1/200\n",
            "6/6 [==============================] - 0s 2ms/step - loss: 313.2477\n",
            "Epoch 2/200\n",
            "6/6 [==============================] - 0s 2ms/step - loss: 289.1539\n",
            "Epoch 3/200\n",
            "6/6 [==============================] - 0s 2ms/step - loss: 252.5850\n",
            "Epoch 4/200\n",
            "6/6 [==============================] - 0s 2ms/step - loss: 205.3998\n",
            "Epoch 5/200\n",
            "6/6 [==============================] - 0s 2ms/step - loss: 166.1409\n",
            "Epoch 6/200\n",
            "6/6 [==============================] - 0s 2ms/step - loss: 116.7236\n",
            "Epoch 7/200\n",
            "6/6 [==============================] - 0s 2ms/step - loss: 94.0267\n",
            "Epoch 8/200\n",
            "6/6 [==============================] - 0s 2ms/step - loss: 63.9028\n",
            "Epoch 9/200\n",
            "6/6 [==============================] - 0s 2ms/step - loss: 55.5584\n",
            "Epoch 10/200\n",
            "6/6 [==============================] - 0s 2ms/step - loss: 36.0696\n",
            "Epoch 11/200\n",
            "6/6 [==============================] - 0s 2ms/step - loss: 34.0677\n",
            "Epoch 12/200\n",
            "6/6 [==============================] - 0s 2ms/step - loss: 25.5729\n",
            "Epoch 13/200\n",
            "6/6 [==============================] - 0s 2ms/step - loss: 17.0202\n",
            "Epoch 14/200\n",
            "6/6 [==============================] - 0s 2ms/step - loss: 13.9746\n",
            "Epoch 15/200\n",
            "6/6 [==============================] - 0s 2ms/step - loss: 17.0896\n",
            "Epoch 16/200\n",
            "6/6 [==============================] - 0s 2ms/step - loss: 9.0150\n",
            "Epoch 17/200\n",
            "6/6 [==============================] - 0s 2ms/step - loss: 5.7403\n",
            "Epoch 18/200\n",
            "6/6 [==============================] - 0s 2ms/step - loss: 3.8105\n",
            "Epoch 19/200\n",
            "6/6 [==============================] - 0s 2ms/step - loss: 3.7511\n",
            "Epoch 20/200\n",
            "6/6 [==============================] - 0s 2ms/step - loss: 2.3318\n",
            "Epoch 21/200\n",
            "6/6 [==============================] - 0s 2ms/step - loss: 4.1922\n",
            "Epoch 22/200\n",
            "6/6 [==============================] - 0s 3ms/step - loss: 3.0637\n",
            "Epoch 23/200\n",
            "6/6 [==============================] - 0s 3ms/step - loss: 3.5273\n",
            "Epoch 24/200\n",
            "6/6 [==============================] - 0s 2ms/step - loss: 1.9141\n",
            "Epoch 25/200\n",
            "6/6 [==============================] - 0s 2ms/step - loss: 1.7857\n",
            "Epoch 26/200\n",
            "6/6 [==============================] - 0s 2ms/step - loss: 1.8101\n",
            "Epoch 27/200\n",
            "6/6 [==============================] - 0s 2ms/step - loss: 1.1763\n",
            "Epoch 28/200\n",
            "6/6 [==============================] - 0s 4ms/step - loss: 1.1686\n",
            "Epoch 29/200\n",
            "6/6 [==============================] - 0s 2ms/step - loss: 0.9260\n",
            "Epoch 30/200\n",
            "6/6 [==============================] - 0s 2ms/step - loss: 1.1818\n",
            "Epoch 31/200\n",
            "6/6 [==============================] - 0s 3ms/step - loss: 1.1122\n",
            "Epoch 32/200\n",
            "6/6 [==============================] - 0s 2ms/step - loss: 1.0818\n",
            "Epoch 33/200\n",
            "6/6 [==============================] - 0s 2ms/step - loss: 1.0669\n",
            "Epoch 34/200\n",
            "6/6 [==============================] - 0s 3ms/step - loss: 1.1499\n",
            "Epoch 35/200\n",
            "6/6 [==============================] - 0s 2ms/step - loss: 0.8697\n",
            "Epoch 36/200\n",
            "6/6 [==============================] - 0s 2ms/step - loss: 1.0039\n",
            "Epoch 37/200\n",
            "6/6 [==============================] - 0s 2ms/step - loss: 0.8636\n",
            "Epoch 38/200\n",
            "6/6 [==============================] - 0s 3ms/step - loss: 0.9530\n",
            "Epoch 39/200\n",
            "6/6 [==============================] - 0s 2ms/step - loss: 1.0640\n",
            "Epoch 40/200\n",
            "6/6 [==============================] - 0s 3ms/step - loss: 0.8393\n",
            "Epoch 41/200\n",
            "6/6 [==============================] - 0s 2ms/step - loss: 1.3400\n",
            "Epoch 42/200\n",
            "6/6 [==============================] - 0s 2ms/step - loss: 0.9328\n",
            "Epoch 43/200\n",
            "6/6 [==============================] - 0s 2ms/step - loss: 0.8228\n",
            "Epoch 44/200\n",
            "6/6 [==============================] - 0s 2ms/step - loss: 1.0272\n",
            "Epoch 45/200\n",
            "6/6 [==============================] - 0s 2ms/step - loss: 1.0784\n",
            "Epoch 46/200\n",
            "6/6 [==============================] - 0s 2ms/step - loss: 0.6917\n",
            "Epoch 47/200\n",
            "6/6 [==============================] - 0s 2ms/step - loss: 0.9203\n",
            "Epoch 48/200\n",
            "6/6 [==============================] - 0s 2ms/step - loss: 1.0147\n",
            "Epoch 49/200\n",
            "6/6 [==============================] - 0s 2ms/step - loss: 1.0410\n",
            "Epoch 50/200\n",
            "6/6 [==============================] - 0s 2ms/step - loss: 1.6140\n",
            "Epoch 51/200\n",
            "6/6 [==============================] - 0s 2ms/step - loss: 2.6525\n",
            "Epoch 52/200\n",
            "6/6 [==============================] - 0s 3ms/step - loss: 3.1664\n",
            "Epoch 53/200\n",
            "6/6 [==============================] - 0s 2ms/step - loss: 1.0432\n",
            "Epoch 54/200\n",
            "6/6 [==============================] - 0s 2ms/step - loss: 1.2049\n",
            "Epoch 55/200\n",
            "6/6 [==============================] - 0s 2ms/step - loss: 1.2675\n",
            "Epoch 56/200\n",
            "6/6 [==============================] - 0s 2ms/step - loss: 1.1413\n",
            "Epoch 57/200\n",
            "6/6 [==============================] - 0s 2ms/step - loss: 1.1385\n",
            "Epoch 58/200\n",
            "6/6 [==============================] - 0s 2ms/step - loss: 0.8754\n",
            "Epoch 59/200\n",
            "6/6 [==============================] - 0s 2ms/step - loss: 1.0482\n",
            "Epoch 60/200\n",
            "6/6 [==============================] - 0s 2ms/step - loss: 1.0081\n",
            "Epoch 61/200\n",
            "6/6 [==============================] - 0s 2ms/step - loss: 0.8663\n",
            "Epoch 62/200\n",
            "6/6 [==============================] - 0s 2ms/step - loss: 1.2182\n",
            "Epoch 63/200\n",
            "6/6 [==============================] - 0s 2ms/step - loss: 0.7543\n",
            "Epoch 64/200\n",
            "6/6 [==============================] - 0s 2ms/step - loss: 0.9800\n",
            "Epoch 65/200\n",
            "6/6 [==============================] - 0s 2ms/step - loss: 0.7143\n",
            "Epoch 66/200\n",
            "6/6 [==============================] - 0s 2ms/step - loss: 0.8226\n",
            "Epoch 67/200\n",
            "6/6 [==============================] - 0s 2ms/step - loss: 0.9604\n",
            "Epoch 68/200\n",
            "6/6 [==============================] - 0s 2ms/step - loss: 0.8496\n",
            "Epoch 69/200\n",
            "6/6 [==============================] - 0s 2ms/step - loss: 0.8028\n",
            "Epoch 70/200\n",
            "6/6 [==============================] - 0s 2ms/step - loss: 0.8084\n",
            "Epoch 71/200\n",
            "6/6 [==============================] - 0s 2ms/step - loss: 1.0734\n",
            "Epoch 72/200\n",
            "6/6 [==============================] - 0s 2ms/step - loss: 0.8614\n",
            "Epoch 73/200\n",
            "6/6 [==============================] - 0s 3ms/step - loss: 0.8607\n",
            "Epoch 74/200\n",
            "6/6 [==============================] - 0s 2ms/step - loss: 0.8411\n",
            "Epoch 75/200\n",
            "6/6 [==============================] - 0s 2ms/step - loss: 0.8751\n",
            "Epoch 76/200\n",
            "6/6 [==============================] - 0s 2ms/step - loss: 0.8563\n",
            "Epoch 77/200\n",
            "6/6 [==============================] - 0s 3ms/step - loss: 0.8921\n",
            "Epoch 78/200\n",
            "6/6 [==============================] - 0s 1ms/step - loss: 1.1410\n",
            "Epoch 79/200\n",
            "6/6 [==============================] - 0s 2ms/step - loss: 0.9894\n",
            "Epoch 80/200\n",
            "6/6 [==============================] - 0s 2ms/step - loss: 0.7919\n",
            "Epoch 81/200\n",
            "6/6 [==============================] - 0s 2ms/step - loss: 1.0805\n",
            "Epoch 82/200\n",
            "6/6 [==============================] - 0s 2ms/step - loss: 0.8472\n",
            "Epoch 83/200\n",
            "6/6 [==============================] - 0s 3ms/step - loss: 0.8065\n",
            "Epoch 84/200\n",
            "6/6 [==============================] - 0s 2ms/step - loss: 0.9503\n",
            "Epoch 85/200\n",
            "6/6 [==============================] - 0s 2ms/step - loss: 0.9193\n",
            "Epoch 86/200\n",
            "6/6 [==============================] - 0s 2ms/step - loss: 0.8772\n",
            "Epoch 87/200\n",
            "6/6 [==============================] - 0s 2ms/step - loss: 0.7122\n",
            "Epoch 88/200\n",
            "6/6 [==============================] - 0s 3ms/step - loss: 0.7507\n",
            "Epoch 89/200\n",
            "6/6 [==============================] - 0s 2ms/step - loss: 0.7469\n",
            "Epoch 90/200\n",
            "6/6 [==============================] - 0s 2ms/step - loss: 0.7826\n",
            "Epoch 91/200\n",
            "6/6 [==============================] - 0s 2ms/step - loss: 0.8027\n",
            "Epoch 92/200\n",
            "6/6 [==============================] - 0s 2ms/step - loss: 0.9283\n",
            "Epoch 93/200\n",
            "6/6 [==============================] - 0s 2ms/step - loss: 0.8841\n",
            "Epoch 94/200\n",
            "6/6 [==============================] - 0s 2ms/step - loss: 0.7490\n",
            "Epoch 95/200\n",
            "6/6 [==============================] - 0s 2ms/step - loss: 0.7381\n",
            "Epoch 96/200\n",
            "6/6 [==============================] - 0s 2ms/step - loss: 0.7442\n",
            "Epoch 97/200\n",
            "6/6 [==============================] - 0s 2ms/step - loss: 0.9260\n",
            "Epoch 98/200\n",
            "6/6 [==============================] - 0s 3ms/step - loss: 0.8797\n",
            "Epoch 99/200\n",
            "6/6 [==============================] - 0s 2ms/step - loss: 1.0032\n",
            "Epoch 100/200\n",
            "6/6 [==============================] - 0s 2ms/step - loss: 0.9634\n",
            "Epoch 101/200\n",
            "6/6 [==============================] - 0s 2ms/step - loss: 0.7587\n",
            "Epoch 102/200\n",
            "6/6 [==============================] - 0s 2ms/step - loss: 0.8606\n",
            "Epoch 103/200\n",
            "6/6 [==============================] - 0s 2ms/step - loss: 0.9084\n",
            "Epoch 104/200\n",
            "6/6 [==============================] - 0s 2ms/step - loss: 0.9331\n",
            "Epoch 105/200\n",
            "6/6 [==============================] - 0s 2ms/step - loss: 1.0306\n",
            "Epoch 106/200\n",
            "6/6 [==============================] - 0s 2ms/step - loss: 0.8588\n",
            "Epoch 107/200\n",
            "6/6 [==============================] - 0s 2ms/step - loss: 0.8420\n",
            "Epoch 108/200\n",
            "6/6 [==============================] - 0s 2ms/step - loss: 0.7890\n",
            "Epoch 109/200\n",
            "6/6 [==============================] - 0s 2ms/step - loss: 0.8630\n",
            "Epoch 110/200\n",
            "6/6 [==============================] - 0s 2ms/step - loss: 0.9189\n",
            "Epoch 111/200\n",
            "6/6 [==============================] - 0s 2ms/step - loss: 0.7765\n",
            "Epoch 112/200\n",
            "6/6 [==============================] - 0s 2ms/step - loss: 0.9815\n",
            "Epoch 113/200\n",
            "6/6 [==============================] - 0s 2ms/step - loss: 0.9066\n",
            "Epoch 114/200\n",
            "6/6 [==============================] - 0s 2ms/step - loss: 0.8226\n",
            "Epoch 115/200\n",
            "6/6 [==============================] - 0s 2ms/step - loss: 0.8430\n",
            "Epoch 116/200\n",
            "6/6 [==============================] - 0s 2ms/step - loss: 0.8590\n",
            "Epoch 117/200\n",
            "6/6 [==============================] - 0s 2ms/step - loss: 0.9613\n",
            "Epoch 118/200\n",
            "6/6 [==============================] - 0s 2ms/step - loss: 0.9258\n",
            "Epoch 119/200\n",
            "6/6 [==============================] - 0s 3ms/step - loss: 0.9564\n",
            "Epoch 120/200\n",
            "6/6 [==============================] - 0s 3ms/step - loss: 0.8304\n",
            "Epoch 121/200\n",
            "6/6 [==============================] - 0s 3ms/step - loss: 0.9372\n",
            "Epoch 122/200\n",
            "6/6 [==============================] - 0s 2ms/step - loss: 0.8179\n",
            "Epoch 123/200\n",
            "6/6 [==============================] - 0s 2ms/step - loss: 0.9770\n",
            "Epoch 124/200\n",
            "6/6 [==============================] - 0s 2ms/step - loss: 0.8027\n",
            "Epoch 125/200\n",
            "6/6 [==============================] - 0s 3ms/step - loss: 0.9836\n",
            "Epoch 126/200\n",
            "6/6 [==============================] - 0s 2ms/step - loss: 1.0605\n",
            "Epoch 127/200\n",
            "6/6 [==============================] - 0s 2ms/step - loss: 0.7988\n",
            "Epoch 128/200\n",
            "6/6 [==============================] - 0s 2ms/step - loss: 0.8739\n",
            "Epoch 129/200\n",
            "6/6 [==============================] - 0s 2ms/step - loss: 1.1918\n",
            "Epoch 130/200\n",
            "6/6 [==============================] - 0s 3ms/step - loss: 1.0360\n",
            "Epoch 131/200\n",
            "6/6 [==============================] - 0s 2ms/step - loss: 0.8516\n",
            "Epoch 132/200\n",
            "6/6 [==============================] - 0s 2ms/step - loss: 0.9837\n",
            "Epoch 133/200\n",
            "6/6 [==============================] - 0s 2ms/step - loss: 0.8001\n",
            "Epoch 134/200\n",
            "6/6 [==============================] - 0s 2ms/step - loss: 0.8170\n",
            "Epoch 135/200\n",
            "6/6 [==============================] - 0s 2ms/step - loss: 0.8778\n",
            "Epoch 136/200\n",
            "6/6 [==============================] - 0s 2ms/step - loss: 0.8404\n",
            "Epoch 137/200\n",
            "6/6 [==============================] - 0s 3ms/step - loss: 0.7913\n",
            "Epoch 138/200\n",
            "6/6 [==============================] - 0s 2ms/step - loss: 0.8138\n",
            "Epoch 139/200\n",
            "6/6 [==============================] - 0s 2ms/step - loss: 0.9837\n",
            "Epoch 140/200\n",
            "6/6 [==============================] - 0s 3ms/step - loss: 0.9196\n",
            "Epoch 141/200\n",
            "6/6 [==============================] - 0s 3ms/step - loss: 0.9687\n",
            "Epoch 142/200\n",
            "6/6 [==============================] - 0s 2ms/step - loss: 1.0131\n",
            "Epoch 143/200\n",
            "6/6 [==============================] - 0s 2ms/step - loss: 1.1046\n",
            "Epoch 144/200\n",
            "6/6 [==============================] - 0s 2ms/step - loss: 0.8071\n",
            "Epoch 145/200\n",
            "6/6 [==============================] - 0s 2ms/step - loss: 1.0135\n",
            "Epoch 146/200\n",
            "6/6 [==============================] - 0s 2ms/step - loss: 0.7042\n",
            "Epoch 147/200\n",
            "6/6 [==============================] - 0s 2ms/step - loss: 0.9231\n",
            "Epoch 148/200\n",
            "6/6 [==============================] - 0s 2ms/step - loss: 0.8266\n",
            "Epoch 149/200\n",
            "6/6 [==============================] - 0s 2ms/step - loss: 1.0679\n",
            "Epoch 150/200\n",
            "6/6 [==============================] - 0s 3ms/step - loss: 0.8168\n",
            "Epoch 151/200\n",
            "6/6 [==============================] - 0s 2ms/step - loss: 0.8188\n",
            "Epoch 152/200\n",
            "6/6 [==============================] - 0s 2ms/step - loss: 0.7452\n",
            "Epoch 153/200\n",
            "6/6 [==============================] - 0s 2ms/step - loss: 0.6899\n",
            "Epoch 154/200\n",
            "6/6 [==============================] - 0s 3ms/step - loss: 0.6925\n",
            "Epoch 155/200\n",
            "6/6 [==============================] - 0s 2ms/step - loss: 0.8620\n",
            "Epoch 156/200\n",
            "6/6 [==============================] - 0s 3ms/step - loss: 1.1254\n",
            "Epoch 157/200\n",
            "6/6 [==============================] - 0s 2ms/step - loss: 0.8209\n",
            "Epoch 158/200\n",
            "6/6 [==============================] - 0s 2ms/step - loss: 0.7550\n",
            "Epoch 159/200\n",
            "6/6 [==============================] - 0s 2ms/step - loss: 0.7711\n",
            "Epoch 160/200\n",
            "6/6 [==============================] - 0s 2ms/step - loss: 0.7836\n",
            "Epoch 161/200\n",
            "6/6 [==============================] - 0s 2ms/step - loss: 0.9325\n",
            "Epoch 162/200\n",
            "6/6 [==============================] - 0s 3ms/step - loss: 0.7691\n",
            "Epoch 163/200\n",
            "6/6 [==============================] - 0s 2ms/step - loss: 0.9123\n",
            "Epoch 164/200\n",
            "6/6 [==============================] - 0s 2ms/step - loss: 1.0655\n",
            "Epoch 165/200\n",
            "6/6 [==============================] - 0s 2ms/step - loss: 0.8376\n",
            "Epoch 166/200\n",
            "6/6 [==============================] - 0s 2ms/step - loss: 1.1073\n",
            "Epoch 167/200\n",
            "6/6 [==============================] - 0s 2ms/step - loss: 0.7516\n",
            "Epoch 168/200\n",
            "6/6 [==============================] - 0s 2ms/step - loss: 0.9882\n",
            "Epoch 169/200\n",
            "6/6 [==============================] - 0s 2ms/step - loss: 0.7824\n",
            "Epoch 170/200\n",
            "6/6 [==============================] - 0s 2ms/step - loss: 0.9985\n",
            "Epoch 171/200\n",
            "6/6 [==============================] - 0s 2ms/step - loss: 0.8920\n",
            "Epoch 172/200\n",
            "6/6 [==============================] - 0s 2ms/step - loss: 0.9524\n",
            "Epoch 173/200\n",
            "6/6 [==============================] - 0s 2ms/step - loss: 0.9820\n",
            "Epoch 174/200\n",
            "6/6 [==============================] - 0s 2ms/step - loss: 0.7330\n",
            "Epoch 175/200\n",
            "6/6 [==============================] - 0s 2ms/step - loss: 0.9449\n",
            "Epoch 176/200\n",
            "6/6 [==============================] - 0s 2ms/step - loss: 0.8457\n",
            "Epoch 177/200\n",
            "6/6 [==============================] - 0s 2ms/step - loss: 1.0007\n",
            "Epoch 178/200\n",
            "6/6 [==============================] - 0s 3ms/step - loss: 0.8151\n",
            "Epoch 179/200\n",
            "6/6 [==============================] - 0s 5ms/step - loss: 0.8358\n",
            "Epoch 180/200\n",
            "6/6 [==============================] - 0s 3ms/step - loss: 1.0591\n",
            "Epoch 181/200\n",
            "6/6 [==============================] - 0s 3ms/step - loss: 0.9599\n",
            "Epoch 182/200\n",
            "6/6 [==============================] - 0s 2ms/step - loss: 0.7939\n",
            "Epoch 183/200\n",
            "6/6 [==============================] - 0s 2ms/step - loss: 0.7925\n",
            "Epoch 184/200\n",
            "6/6 [==============================] - 0s 2ms/step - loss: 1.0252\n",
            "Epoch 185/200\n",
            "6/6 [==============================] - 0s 2ms/step - loss: 0.9072\n",
            "Epoch 186/200\n",
            "6/6 [==============================] - 0s 2ms/step - loss: 1.0896\n",
            "Epoch 187/200\n",
            "6/6 [==============================] - 0s 2ms/step - loss: 0.8887\n",
            "Epoch 188/200\n",
            "6/6 [==============================] - 0s 2ms/step - loss: 0.9907\n",
            "Epoch 189/200\n",
            "6/6 [==============================] - 0s 2ms/step - loss: 0.9334\n",
            "Epoch 190/200\n",
            "6/6 [==============================] - 0s 2ms/step - loss: 1.0327\n",
            "Epoch 191/200\n",
            "6/6 [==============================] - 0s 3ms/step - loss: 0.8603\n",
            "Epoch 192/200\n",
            "6/6 [==============================] - 0s 3ms/step - loss: 0.8474\n",
            "Epoch 193/200\n",
            "6/6 [==============================] - 0s 3ms/step - loss: 0.8695\n",
            "Epoch 194/200\n",
            "6/6 [==============================] - 0s 2ms/step - loss: 0.8354\n",
            "Epoch 195/200\n",
            "6/6 [==============================] - 0s 2ms/step - loss: 0.8111\n",
            "Epoch 196/200\n",
            "6/6 [==============================] - 0s 2ms/step - loss: 0.9499\n",
            "Epoch 197/200\n",
            "6/6 [==============================] - 0s 2ms/step - loss: 0.7686\n",
            "Epoch 198/200\n",
            "6/6 [==============================] - 0s 2ms/step - loss: 0.9196\n",
            "Epoch 199/200\n",
            "6/6 [==============================] - 0s 2ms/step - loss: 1.1090\n",
            "Epoch 200/200\n",
            "6/6 [==============================] - 0s 3ms/step - loss: 1.0337\n"
          ],
          "name": "stdout"
        }
      ]
    },
    {
      "cell_type": "code",
      "metadata": {
        "colab": {
          "base_uri": "https://localhost:8080/",
          "height": 282
        },
        "id": "T6liebgjEjyX",
        "outputId": "cf17b8a0-7276-4922-dece-b3cd9e607cdc"
      },
      "source": [
        "plt.plot(trained_model.history[\"loss\"], label=\"loss\")"
      ],
      "execution_count": 33,
      "outputs": [
        {
          "output_type": "execute_result",
          "data": {
            "text/plain": [
              "[<matplotlib.lines.Line2D at 0x7f0eb30a3650>]"
            ]
          },
          "metadata": {
            "tags": []
          },
          "execution_count": 33
        },
        {
          "output_type": "display_data",
          "data": {
            "image/png": "[encoded data removed]",
            "text/plain": [
              "<Figure size 432x288 with 1 Axes>"
            ]
          },
          "metadata": {
            "tags": [],
            "needs_background": "light"
          }
        }
      ]
    },
    {
      "cell_type": "markdown",
      "metadata": {
        "id": "UeUe6Xz2Engq"
      },
      "source": [
        "## Making predictions"
      ]
    },
    {
      "cell_type": "code",
      "metadata": {
        "id": "zlYfYgFvKRA7"
      },
      "source": [
        "p = model.predict(X)"
      ],
      "execution_count": 35,
      "outputs": []
    },
    {
      "cell_type": "code",
      "metadata": {
        "colab": {
          "base_uri": "https://localhost:8080/"
        },
        "id": "_UMYzbeQKUCO",
        "outputId": "41dcbde8-e49b-4beb-fe46-55729f52beb8"
      },
      "source": [
        "p.flatten()"
      ],
      "execution_count": 37,
      "outputs": [
        {
          "output_type": "execute_result",
          "data": {
            "text/plain": [
              "array([ 7.286454,  7.622859,  7.959263,  7.959263,  8.295668,  8.295668,\n",
              "        8.295668,  8.632072,  8.968477,  8.968477,  8.968477,  9.641287,\n",
              "        9.641287,  9.977692,  9.977692,  9.977692, 10.6505  , 10.986905,\n",
              "       10.986905, 11.32331 , 11.659714, 11.659714, 11.996119, 11.996119,\n",
              "       11.996119, 12.332523, 12.332523, 12.332523, 12.668928, 12.668928,\n",
              "       12.668928, 12.668928, 13.005333, 13.005333, 13.341738, 13.341738,\n",
              "       13.341738, 13.341738, 13.678143, 14.014547, 14.014547, 14.350952,\n",
              "       14.350952, 14.687356, 14.687356, 15.023761, 15.023761, 15.360166,\n",
              "       16.705784, 15.360166, 15.69657 , 16.032974, 16.032974, 16.032974,\n",
              "       16.369379, 16.705784, 16.705784, 17.042189, 17.042189, 16.705784,\n",
              "       16.705784, 16.705784, 17.042189, 17.378593, 17.378593, 17.714998,\n",
              "       18.387808, 18.387808, 18.724213, 19.060617, 18.724213, 19.060617,\n",
              "       19.397022, 19.733425, 18.051403, 18.051403, 17.714998, 18.724213,\n",
              "       18.724213, 19.060617, 19.397022, 18.051403, 19.733425, 20.06983 ,\n",
              "       20.74264 , 21.079044, 19.397022, 19.397022, 19.733425, 18.387808,\n",
              "       19.397022, 19.733425, 19.733425, 19.397022, 20.06983 , 20.406235,\n",
              "       21.079044, 21.41545 , 20.74264 , 20.406235, 20.406235, 21.079044,\n",
              "       21.079044, 20.406235, 21.079044, 21.751854, 19.060617, 22.088259,\n",
              "       21.41545 , 22.088259, 19.733425, 20.406235, 21.751854, 22.088259,\n",
              "       22.088259, 21.079044, 20.74264 , 20.406235, 21.751854, 20.74264 ,\n",
              "       21.079044, 21.751854, 22.424664, 22.761068, 22.761068, 23.097473,\n",
              "       21.079044, 22.424664, 22.424664, 22.088259, 21.41545 , 22.761068,\n",
              "       21.751854, 22.761068, 22.761068, 22.761068, 21.079044, 21.41545 ,\n",
              "       21.751854, 22.761068, 23.097473, 22.424664, 23.097473, 22.761068,\n",
              "       23.097473, 22.761068, 22.088259, 22.761068, 22.424664, 22.761068,\n",
              "       22.424664, 22.761068, 22.761068, 22.088259, 22.761068, 23.097473,\n",
              "       22.761068, 22.761068, 22.761068, 23.097473, 23.097473, 23.097473],\n",
              "      dtype=float32)"
            ]
          },
          "metadata": {
            "tags": []
          },
          "execution_count": 37
        }
      ]
    },
    {
      "cell_type": "code",
      "metadata": {
        "colab": {
          "base_uri": "https://localhost:8080/",
          "height": 282
        },
        "id": "f7gc3wTzKW6W",
        "outputId": "f156c070-7d7a-44ce-ab75-29c332bec9d3"
      },
      "source": [
        "plt.scatter(X,Y)\n",
        "plt.scatter(X,p)"
      ],
      "execution_count": 39,
      "outputs": [
        {
          "output_type": "execute_result",
          "data": {
            "text/plain": [
              "<matplotlib.collections.PathCollection at 0x7f0eb2fce650>"
            ]
          },
          "metadata": {
            "tags": []
          },
          "execution_count": 39
        },
        {
          "output_type": "display_data",
          "data": {
            "image/png": "[encoded data removed]",
            "text/plain": [
              "<Figure size 432x288 with 1 Axes>"
            ]
          },
          "metadata": {
            "tags": [],
            "needs_background": "light"
          }
        }
      ]
    },
    {
      "cell_type": "code",
      "metadata": {
        "id": "nxbLhOw-KiUh"
      },
      "source": [
        ""
      ],
      "execution_count": null,
      "outputs": []
    }
  ]
}